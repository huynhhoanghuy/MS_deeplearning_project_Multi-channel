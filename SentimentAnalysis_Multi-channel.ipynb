{
  "nbformat": 4,
  "nbformat_minor": 0,
  "metadata": {
    "colab": {
      "name": "SentimentAnalysis_Multi-channel.ipynb.ipynb",
      "provenance": [],
      "collapsed_sections": [],
      "include_colab_link": true
    },
    "kernelspec": {
      "name": "python3",
      "display_name": "Python 3"
    },
    "accelerator": "GPU"
  },
  "cells": [
    {
      "cell_type": "markdown",
      "metadata": {
        "id": "view-in-github",
        "colab_type": "text"
      },
      "source": [
        "<a href=\"https://colab.research.google.com/github/huynhhoanghuy/MS_deeplearning_project_Multi-channel/blob/main/SentimentAnalysis_Multi-channel.ipynb\" target=\"_parent\"><img src=\"https://colab.research.google.com/assets/colab-badge.svg\" alt=\"Open In Colab\"/></a>"
      ]
    },
    {
      "cell_type": "markdown",
      "source": [
        "# Thông tin học viên:\n",
        "MSHV: 21C11011\n",
        "\n",
        "Họ Tên: Huỳnh Hoàng Huy\n",
        "\n",
        "\n",
        "---\n",
        "\n"
      ],
      "metadata": {
        "id": "D1xZkuoyFurQ"
      }
    },
    {
      "cell_type": "markdown",
      "source": [
        "- Chuẩn bị dữ liệu"
      ],
      "metadata": {
        "id": "17lQQcvQFx6h"
      }
    },
    {
      "cell_type": "code",
      "source": [
        "!pip install gdown"
      ],
      "metadata": {
        "colab": {
          "base_uri": "https://localhost:8080/"
        },
        "id": "_Zm7w-8T7JlQ",
        "outputId": "77564474-e514-4b12-9a3d-28e52752ef76"
      },
      "execution_count": 286,
      "outputs": [
        {
          "output_type": "stream",
          "name": "stdout",
          "text": [
            "Looking in indexes: https://pypi.org/simple, https://us-python.pkg.dev/colab-wheels/public/simple/\n",
            "Requirement already satisfied: gdown in /usr/local/lib/python3.7/dist-packages (4.4.0)\n",
            "Requirement already satisfied: six in /usr/local/lib/python3.7/dist-packages (from gdown) (1.15.0)\n",
            "Requirement already satisfied: beautifulsoup4 in /usr/local/lib/python3.7/dist-packages (from gdown) (4.6.3)\n",
            "Requirement already satisfied: filelock in /usr/local/lib/python3.7/dist-packages (from gdown) (3.7.0)\n",
            "Requirement already satisfied: requests[socks] in /usr/local/lib/python3.7/dist-packages (from gdown) (2.23.0)\n",
            "Requirement already satisfied: tqdm in /usr/local/lib/python3.7/dist-packages (from gdown) (4.64.0)\n",
            "Requirement already satisfied: certifi>=2017.4.17 in /usr/local/lib/python3.7/dist-packages (from requests[socks]->gdown) (2022.5.18.1)\n",
            "Requirement already satisfied: idna<3,>=2.5 in /usr/local/lib/python3.7/dist-packages (from requests[socks]->gdown) (2.10)\n",
            "Requirement already satisfied: urllib3!=1.25.0,!=1.25.1,<1.26,>=1.21.1 in /usr/local/lib/python3.7/dist-packages (from requests[socks]->gdown) (1.24.3)\n",
            "Requirement already satisfied: chardet<4,>=3.0.2 in /usr/local/lib/python3.7/dist-packages (from requests[socks]->gdown) (3.0.4)\n",
            "Requirement already satisfied: PySocks!=1.5.7,>=1.5.6 in /usr/local/lib/python3.7/dist-packages (from requests[socks]->gdown) (1.7.1)\n"
          ]
        }
      ]
    },
    {
      "cell_type": "code",
      "source": [
        "!gdown 1hAHZI1vLdTBnye-6XTdPBvky8f4HwidL"
      ],
      "metadata": {
        "colab": {
          "base_uri": "https://localhost:8080/"
        },
        "id": "8jrP71697PJf",
        "outputId": "54ec1750-ee49-466c-ae76-c5cd6914b2f1"
      },
      "execution_count": 287,
      "outputs": [
        {
          "output_type": "stream",
          "name": "stdout",
          "text": [
            "Downloading...\n",
            "From: https://drive.google.com/uc?id=1hAHZI1vLdTBnye-6XTdPBvky8f4HwidL\n",
            "To: /content/IMDB Dataset.csv.zip\n",
            "\r  0% 0.00/27.0M [00:00<?, ?B/s]\r 78% 21.0M/27.0M [00:00<00:00, 209MB/s]\r100% 27.0M/27.0M [00:00<00:00, 232MB/s]\n"
          ]
        }
      ]
    },
    {
      "cell_type": "code",
      "source": [
        "!unzip \"/content/IMDB Dataset.csv.zip\""
      ],
      "metadata": {
        "colab": {
          "base_uri": "https://localhost:8080/"
        },
        "id": "jl7Dl91b5MfR",
        "outputId": "2cb13fe3-95dd-47f4-e51a-6e536724e19a"
      },
      "execution_count": 288,
      "outputs": [
        {
          "output_type": "stream",
          "name": "stdout",
          "text": [
            "Archive:  /content/IMDB Dataset.csv.zip\n",
            "replace IMDB Dataset.csv? [y]es, [n]o, [A]ll, [N]one, [r]ename: n\n"
          ]
        }
      ]
    },
    {
      "cell_type": "code",
      "metadata": {
        "id": "9gVMu2H-IgOy",
        "colab": {
          "base_uri": "https://localhost:8080/",
          "height": 204
        },
        "outputId": "2f9ddce3-0d01-4bf7-d16f-9db020829110"
      },
      "source": [
        "import pandas as pd\n",
        "data_pd = pd.read_csv(\"IMDB Dataset.csv\")\n",
        "\n",
        "data_pd[\"label\"] = data_pd[\"sentiment\"].map({'positive': 1, 'negative': 0})\n",
        "data_pd.head()"
      ],
      "execution_count": 289,
      "outputs": [
        {
          "output_type": "execute_result",
          "data": {
            "text/plain": [
              "                                              review sentiment  label\n",
              "0  One of the other reviewers has mentioned that ...  positive      1\n",
              "1  A wonderful little production. <br /><br />The...  positive      1\n",
              "2  I thought this was a wonderful way to spend ti...  positive      1\n",
              "3  Basically there's a family where a little boy ...  negative      0\n",
              "4  Petter Mattei's \"Love in the Time of Money\" is...  positive      1"
            ],
            "text/html": [
              "\n",
              "  <div id=\"df-96701012-c06c-45d6-bf82-4ace933a8baa\">\n",
              "    <div class=\"colab-df-container\">\n",
              "      <div>\n",
              "<style scoped>\n",
              "    .dataframe tbody tr th:only-of-type {\n",
              "        vertical-align: middle;\n",
              "    }\n",
              "\n",
              "    .dataframe tbody tr th {\n",
              "        vertical-align: top;\n",
              "    }\n",
              "\n",
              "    .dataframe thead th {\n",
              "        text-align: right;\n",
              "    }\n",
              "</style>\n",
              "<table border=\"1\" class=\"dataframe\">\n",
              "  <thead>\n",
              "    <tr style=\"text-align: right;\">\n",
              "      <th></th>\n",
              "      <th>review</th>\n",
              "      <th>sentiment</th>\n",
              "      <th>label</th>\n",
              "    </tr>\n",
              "  </thead>\n",
              "  <tbody>\n",
              "    <tr>\n",
              "      <th>0</th>\n",
              "      <td>One of the other reviewers has mentioned that ...</td>\n",
              "      <td>positive</td>\n",
              "      <td>1</td>\n",
              "    </tr>\n",
              "    <tr>\n",
              "      <th>1</th>\n",
              "      <td>A wonderful little production. &lt;br /&gt;&lt;br /&gt;The...</td>\n",
              "      <td>positive</td>\n",
              "      <td>1</td>\n",
              "    </tr>\n",
              "    <tr>\n",
              "      <th>2</th>\n",
              "      <td>I thought this was a wonderful way to spend ti...</td>\n",
              "      <td>positive</td>\n",
              "      <td>1</td>\n",
              "    </tr>\n",
              "    <tr>\n",
              "      <th>3</th>\n",
              "      <td>Basically there's a family where a little boy ...</td>\n",
              "      <td>negative</td>\n",
              "      <td>0</td>\n",
              "    </tr>\n",
              "    <tr>\n",
              "      <th>4</th>\n",
              "      <td>Petter Mattei's \"Love in the Time of Money\" is...</td>\n",
              "      <td>positive</td>\n",
              "      <td>1</td>\n",
              "    </tr>\n",
              "  </tbody>\n",
              "</table>\n",
              "</div>\n",
              "      <button class=\"colab-df-convert\" onclick=\"convertToInteractive('df-96701012-c06c-45d6-bf82-4ace933a8baa')\"\n",
              "              title=\"Convert this dataframe to an interactive table.\"\n",
              "              style=\"display:none;\">\n",
              "        \n",
              "  <svg xmlns=\"http://www.w3.org/2000/svg\" height=\"24px\"viewBox=\"0 0 24 24\"\n",
              "       width=\"24px\">\n",
              "    <path d=\"M0 0h24v24H0V0z\" fill=\"none\"/>\n",
              "    <path d=\"M18.56 5.44l.94 2.06.94-2.06 2.06-.94-2.06-.94-.94-2.06-.94 2.06-2.06.94zm-11 1L8.5 8.5l.94-2.06 2.06-.94-2.06-.94L8.5 2.5l-.94 2.06-2.06.94zm10 10l.94 2.06.94-2.06 2.06-.94-2.06-.94-.94-2.06-.94 2.06-2.06.94z\"/><path d=\"M17.41 7.96l-1.37-1.37c-.4-.4-.92-.59-1.43-.59-.52 0-1.04.2-1.43.59L10.3 9.45l-7.72 7.72c-.78.78-.78 2.05 0 2.83L4 21.41c.39.39.9.59 1.41.59.51 0 1.02-.2 1.41-.59l7.78-7.78 2.81-2.81c.8-.78.8-2.07 0-2.86zM5.41 20L4 18.59l7.72-7.72 1.47 1.35L5.41 20z\"/>\n",
              "  </svg>\n",
              "      </button>\n",
              "      \n",
              "  <style>\n",
              "    .colab-df-container {\n",
              "      display:flex;\n",
              "      flex-wrap:wrap;\n",
              "      gap: 12px;\n",
              "    }\n",
              "\n",
              "    .colab-df-convert {\n",
              "      background-color: #E8F0FE;\n",
              "      border: none;\n",
              "      border-radius: 50%;\n",
              "      cursor: pointer;\n",
              "      display: none;\n",
              "      fill: #1967D2;\n",
              "      height: 32px;\n",
              "      padding: 0 0 0 0;\n",
              "      width: 32px;\n",
              "    }\n",
              "\n",
              "    .colab-df-convert:hover {\n",
              "      background-color: #E2EBFA;\n",
              "      box-shadow: 0px 1px 2px rgba(60, 64, 67, 0.3), 0px 1px 3px 1px rgba(60, 64, 67, 0.15);\n",
              "      fill: #174EA6;\n",
              "    }\n",
              "\n",
              "    [theme=dark] .colab-df-convert {\n",
              "      background-color: #3B4455;\n",
              "      fill: #D2E3FC;\n",
              "    }\n",
              "\n",
              "    [theme=dark] .colab-df-convert:hover {\n",
              "      background-color: #434B5C;\n",
              "      box-shadow: 0px 1px 3px 1px rgba(0, 0, 0, 0.15);\n",
              "      filter: drop-shadow(0px 1px 2px rgba(0, 0, 0, 0.3));\n",
              "      fill: #FFFFFF;\n",
              "    }\n",
              "  </style>\n",
              "\n",
              "      <script>\n",
              "        const buttonEl =\n",
              "          document.querySelector('#df-96701012-c06c-45d6-bf82-4ace933a8baa button.colab-df-convert');\n",
              "        buttonEl.style.display =\n",
              "          google.colab.kernel.accessAllowed ? 'block' : 'none';\n",
              "\n",
              "        async function convertToInteractive(key) {\n",
              "          const element = document.querySelector('#df-96701012-c06c-45d6-bf82-4ace933a8baa');\n",
              "          const dataTable =\n",
              "            await google.colab.kernel.invokeFunction('convertToInteractive',\n",
              "                                                     [key], {});\n",
              "          if (!dataTable) return;\n",
              "\n",
              "          const docLinkHtml = 'Like what you see? Visit the ' +\n",
              "            '<a target=\"_blank\" href=https://colab.research.google.com/notebooks/data_table.ipynb>data table notebook</a>'\n",
              "            + ' to learn more about interactive tables.';\n",
              "          element.innerHTML = '';\n",
              "          dataTable['output_type'] = 'display_data';\n",
              "          await google.colab.output.renderOutput(dataTable, element);\n",
              "          const docLink = document.createElement('div');\n",
              "          docLink.innerHTML = docLinkHtml;\n",
              "          element.appendChild(docLink);\n",
              "        }\n",
              "      </script>\n",
              "    </div>\n",
              "  </div>\n",
              "  "
            ]
          },
          "metadata": {},
          "execution_count": 289
        }
      ]
    },
    {
      "cell_type": "code",
      "source": [
        "data_pd[\"review\"][6]"
      ],
      "metadata": {
        "id": "ufrxInG1ADVA",
        "outputId": "70d07f2d-73f2-4946-ce0b-e22f74b5822f",
        "colab": {
          "base_uri": "https://localhost:8080/",
          "height": 103
        }
      },
      "execution_count": 290,
      "outputs": [
        {
          "output_type": "execute_result",
          "data": {
            "text/plain": [
              "\"I sure would like to see a resurrection of a up dated Seahunt series with the tech they have today it would bring back the kid excitement in me.I grew up on black and white TV and Seahunt with Gunsmoke were my hero's every week.You have my vote for a comeback of a new sea hunt.We need a change of pace in TV and this would work for a world of under water adventure.Oh by the way thank you for an outlet like this to view many viewpoints about TV and the many movies.So any ole way I believe I've got what I wanna say.Would be nice to read some more plus points about sea hunt.If my rhymes would be 10 lines would you let me submit,or leave me out to be in doubt and have me to quit,If this is so then I must go so lets do it.\""
            ],
            "application/vnd.google.colaboratory.intrinsic+json": {
              "type": "string"
            }
          },
          "metadata": {},
          "execution_count": 290
        }
      ]
    },
    {
      "cell_type": "markdown",
      "source": [
        "Expand word.\n",
        "\n",
        "Ex: I'll -> I will"
      ],
      "metadata": {
        "id": "FdnloALBEF-W"
      }
    },
    {
      "cell_type": "code",
      "source": [
        "!pip3 install contractions\n"
      ],
      "metadata": {
        "id": "PaI-TT4YAi0V",
        "outputId": "a0bfc3f6-e6ad-4a93-8993-9073d12f8fcb",
        "colab": {
          "base_uri": "https://localhost:8080/"
        }
      },
      "execution_count": 291,
      "outputs": [
        {
          "output_type": "stream",
          "name": "stdout",
          "text": [
            "Looking in indexes: https://pypi.org/simple, https://us-python.pkg.dev/colab-wheels/public/simple/\n",
            "Requirement already satisfied: contractions in /usr/local/lib/python3.7/dist-packages (0.1.72)\n",
            "Requirement already satisfied: textsearch>=0.0.21 in /usr/local/lib/python3.7/dist-packages (from contractions) (0.0.21)\n",
            "Requirement already satisfied: anyascii in /usr/local/lib/python3.7/dist-packages (from textsearch>=0.0.21->contractions) (0.3.1)\n",
            "Requirement already satisfied: pyahocorasick in /usr/local/lib/python3.7/dist-packages (from textsearch>=0.0.21->contractions) (1.4.4)\n"
          ]
        }
      ]
    },
    {
      "cell_type": "code",
      "source": [
        "import contractions\n",
        "\n",
        "data_pd['review'] = data_pd['review'].apply(lambda x: ' '.join([contractions.fix(word) for word in x.split()]))"
      ],
      "metadata": {
        "id": "vGCaSBJSAg39"
      },
      "execution_count": 292,
      "outputs": []
    },
    {
      "cell_type": "markdown",
      "source": [
        "Remove special letter"
      ],
      "metadata": {
        "id": "GVcEhQ1oEQNO"
      }
    },
    {
      "cell_type": "code",
      "source": [
        "import re\n",
        "\n",
        "data_pd['review'] = data_pd['review'].apply(lambda x: re.sub('[^A-Za-z0-9]+', ' ',x) )"
      ],
      "metadata": {
        "id": "sYwctTGZA0AN"
      },
      "execution_count": 293,
      "outputs": []
    },
    {
      "cell_type": "markdown",
      "source": [
        "Remove single letter"
      ],
      "metadata": {
        "id": "cHBEVAIFEpDS"
      }
    },
    {
      "cell_type": "code",
      "source": [
        "data_pd['review'] = data_pd['review'].apply(lambda x: re.sub('(\\\\b[A-Za-z] \\\\b|\\\\b [A-Za-z]\\\\b)', '', x) )"
      ],
      "metadata": {
        "id": "z-2Cua9mEtCX"
      },
      "execution_count": 294,
      "outputs": []
    },
    {
      "cell_type": "markdown",
      "source": [
        "Lowercase\n",
        "\n",
        "Ex: A->a"
      ],
      "metadata": {
        "id": "7C0Z2KsiSJhE"
      }
    },
    {
      "cell_type": "code",
      "source": [
        "data_pd['review'] = data_pd['review'].apply(lambda x: x.lower())\n"
      ],
      "metadata": {
        "id": "7JwLB8HJSIh0"
      },
      "execution_count": 295,
      "outputs": []
    },
    {
      "cell_type": "markdown",
      "source": [
        "Remove stop-word"
      ],
      "metadata": {
        "id": "cwToTWApNRDk"
      }
    },
    {
      "cell_type": "code",
      "source": [
        "import nltk\n",
        "\n",
        "\n",
        "nltk.download('stopwords')\n",
        "stopwords = set(nltk.corpus.stopwords.words('english'))\n",
        "stopwords.remove(\"not\")\n",
        "stopwords.remove(\"no\")\n",
        "print(stopwords)\n",
        "data_pd['review'] = data_pd['review'].apply(lambda x: ' '.join([word for word in x.split() if word not in (stopwords)]))\n"
      ],
      "metadata": {
        "id": "_vRvEb6zNTC6",
        "outputId": "5c8daec2-ff9c-4af9-e9ec-75f0a0bb67f4",
        "colab": {
          "base_uri": "https://localhost:8080/"
        }
      },
      "execution_count": 296,
      "outputs": [
        {
          "output_type": "stream",
          "name": "stdout",
          "text": [
            "[nltk_data] Downloading package stopwords to /root/nltk_data...\n",
            "[nltk_data]   Package stopwords is already up-to-date!\n",
            "{'theirs', 'hadn', 'just', 'whom', 'here', 'd', 'until', 'some', 'it', 'your', 'mustn', 'over', \"mustn't\", 'wasn', 'did', \"didn't\", 'against', \"don't\", 'ma', 'does', 'of', 'these', 'couldn', 'how', 't', 'than', \"haven't\", 'during', \"won't\", 'there', 'few', 'yours', 'where', 'hers', 'have', \"aren't\", 'won', 'further', 'itself', \"mightn't\", 'haven', 'most', 'can', 'i', 'while', 'themselves', 'were', 'hasn', 'below', 'been', 'll', 'our', 'but', 'between', 'or', 'once', 'only', \"hasn't\", \"it's\", 'down', 'his', 'to', 'in', 'didn', \"weren't\", 'yourself', 'herself', 'and', 'off', 'ourselves', 'don', 're', 'their', \"that'll\", 'those', 'my', 'above', 'a', \"you'll\", 'out', \"you've\", 'why', \"should've\", 'that', 'o', 've', 'had', 'same', 'this', 'because', 'on', 'into', \"she's\", 'has', 'myself', 'up', 'we', 'when', 'was', \"shouldn't\", 'its', 'who', 'they', \"isn't\", 'he', 'nor', 'her', 'an', \"couldn't\", 'which', 'other', 'now', 'you', 'ain', 'having', 'be', 'doing', 'then', 'should', 'me', 'if', 'am', 'under', \"wasn't\", 'through', 'too', 'as', 'own', 'at', 'about', 's', 'doesn', 'isn', 'again', 'shan', 'are', 'weren', 'm', 'himself', 'will', 'wouldn', \"wouldn't\", 'mightn', 'all', 'with', 'by', 'ours', 'she', 'both', 'any', 'y', 'so', 'more', 'yourselves', \"needn't\", 'shouldn', \"hadn't\", 'what', \"you'd\", 'before', 'is', 'very', \"you're\", 'him', 'being', 'them', 'do', 'for', 'such', 'aren', 'from', \"doesn't\", 'each', 'needn', \"shan't\", 'after', 'the'}\n"
          ]
        }
      ]
    },
    {
      "cell_type": "code",
      "source": [
        "data_pd.head()"
      ],
      "metadata": {
        "id": "olGeUWRoORmM",
        "outputId": "8b25e770-d894-4441-fa89-c704900eca2f",
        "colab": {
          "base_uri": "https://localhost:8080/",
          "height": 204
        }
      },
      "execution_count": 297,
      "outputs": [
        {
          "output_type": "execute_result",
          "data": {
            "text/plain": [
              "                                              review sentiment  label\n",
              "0  one reviewers mentioned watching 1 oz episode ...  positive      1\n",
              "1  wonderful little production br br filming tech...  positive      1\n",
              "2  thought wonderful way spend time hot summer we...  positive      1\n",
              "3  basically family little boy jake thinks zombie...  negative      0\n",
              "4  petter mattei love time money visually stunnin...  positive      1"
            ],
            "text/html": [
              "\n",
              "  <div id=\"df-541f54b3-bd32-41af-bb10-ab8649fe5624\">\n",
              "    <div class=\"colab-df-container\">\n",
              "      <div>\n",
              "<style scoped>\n",
              "    .dataframe tbody tr th:only-of-type {\n",
              "        vertical-align: middle;\n",
              "    }\n",
              "\n",
              "    .dataframe tbody tr th {\n",
              "        vertical-align: top;\n",
              "    }\n",
              "\n",
              "    .dataframe thead th {\n",
              "        text-align: right;\n",
              "    }\n",
              "</style>\n",
              "<table border=\"1\" class=\"dataframe\">\n",
              "  <thead>\n",
              "    <tr style=\"text-align: right;\">\n",
              "      <th></th>\n",
              "      <th>review</th>\n",
              "      <th>sentiment</th>\n",
              "      <th>label</th>\n",
              "    </tr>\n",
              "  </thead>\n",
              "  <tbody>\n",
              "    <tr>\n",
              "      <th>0</th>\n",
              "      <td>one reviewers mentioned watching 1 oz episode ...</td>\n",
              "      <td>positive</td>\n",
              "      <td>1</td>\n",
              "    </tr>\n",
              "    <tr>\n",
              "      <th>1</th>\n",
              "      <td>wonderful little production br br filming tech...</td>\n",
              "      <td>positive</td>\n",
              "      <td>1</td>\n",
              "    </tr>\n",
              "    <tr>\n",
              "      <th>2</th>\n",
              "      <td>thought wonderful way spend time hot summer we...</td>\n",
              "      <td>positive</td>\n",
              "      <td>1</td>\n",
              "    </tr>\n",
              "    <tr>\n",
              "      <th>3</th>\n",
              "      <td>basically family little boy jake thinks zombie...</td>\n",
              "      <td>negative</td>\n",
              "      <td>0</td>\n",
              "    </tr>\n",
              "    <tr>\n",
              "      <th>4</th>\n",
              "      <td>petter mattei love time money visually stunnin...</td>\n",
              "      <td>positive</td>\n",
              "      <td>1</td>\n",
              "    </tr>\n",
              "  </tbody>\n",
              "</table>\n",
              "</div>\n",
              "      <button class=\"colab-df-convert\" onclick=\"convertToInteractive('df-541f54b3-bd32-41af-bb10-ab8649fe5624')\"\n",
              "              title=\"Convert this dataframe to an interactive table.\"\n",
              "              style=\"display:none;\">\n",
              "        \n",
              "  <svg xmlns=\"http://www.w3.org/2000/svg\" height=\"24px\"viewBox=\"0 0 24 24\"\n",
              "       width=\"24px\">\n",
              "    <path d=\"M0 0h24v24H0V0z\" fill=\"none\"/>\n",
              "    <path d=\"M18.56 5.44l.94 2.06.94-2.06 2.06-.94-2.06-.94-.94-2.06-.94 2.06-2.06.94zm-11 1L8.5 8.5l.94-2.06 2.06-.94-2.06-.94L8.5 2.5l-.94 2.06-2.06.94zm10 10l.94 2.06.94-2.06 2.06-.94-2.06-.94-.94-2.06-.94 2.06-2.06.94z\"/><path d=\"M17.41 7.96l-1.37-1.37c-.4-.4-.92-.59-1.43-.59-.52 0-1.04.2-1.43.59L10.3 9.45l-7.72 7.72c-.78.78-.78 2.05 0 2.83L4 21.41c.39.39.9.59 1.41.59.51 0 1.02-.2 1.41-.59l7.78-7.78 2.81-2.81c.8-.78.8-2.07 0-2.86zM5.41 20L4 18.59l7.72-7.72 1.47 1.35L5.41 20z\"/>\n",
              "  </svg>\n",
              "      </button>\n",
              "      \n",
              "  <style>\n",
              "    .colab-df-container {\n",
              "      display:flex;\n",
              "      flex-wrap:wrap;\n",
              "      gap: 12px;\n",
              "    }\n",
              "\n",
              "    .colab-df-convert {\n",
              "      background-color: #E8F0FE;\n",
              "      border: none;\n",
              "      border-radius: 50%;\n",
              "      cursor: pointer;\n",
              "      display: none;\n",
              "      fill: #1967D2;\n",
              "      height: 32px;\n",
              "      padding: 0 0 0 0;\n",
              "      width: 32px;\n",
              "    }\n",
              "\n",
              "    .colab-df-convert:hover {\n",
              "      background-color: #E2EBFA;\n",
              "      box-shadow: 0px 1px 2px rgba(60, 64, 67, 0.3), 0px 1px 3px 1px rgba(60, 64, 67, 0.15);\n",
              "      fill: #174EA6;\n",
              "    }\n",
              "\n",
              "    [theme=dark] .colab-df-convert {\n",
              "      background-color: #3B4455;\n",
              "      fill: #D2E3FC;\n",
              "    }\n",
              "\n",
              "    [theme=dark] .colab-df-convert:hover {\n",
              "      background-color: #434B5C;\n",
              "      box-shadow: 0px 1px 3px 1px rgba(0, 0, 0, 0.15);\n",
              "      filter: drop-shadow(0px 1px 2px rgba(0, 0, 0, 0.3));\n",
              "      fill: #FFFFFF;\n",
              "    }\n",
              "  </style>\n",
              "\n",
              "      <script>\n",
              "        const buttonEl =\n",
              "          document.querySelector('#df-541f54b3-bd32-41af-bb10-ab8649fe5624 button.colab-df-convert');\n",
              "        buttonEl.style.display =\n",
              "          google.colab.kernel.accessAllowed ? 'block' : 'none';\n",
              "\n",
              "        async function convertToInteractive(key) {\n",
              "          const element = document.querySelector('#df-541f54b3-bd32-41af-bb10-ab8649fe5624');\n",
              "          const dataTable =\n",
              "            await google.colab.kernel.invokeFunction('convertToInteractive',\n",
              "                                                     [key], {});\n",
              "          if (!dataTable) return;\n",
              "\n",
              "          const docLinkHtml = 'Like what you see? Visit the ' +\n",
              "            '<a target=\"_blank\" href=https://colab.research.google.com/notebooks/data_table.ipynb>data table notebook</a>'\n",
              "            + ' to learn more about interactive tables.';\n",
              "          element.innerHTML = '';\n",
              "          dataTable['output_type'] = 'display_data';\n",
              "          await google.colab.output.renderOutput(dataTable, element);\n",
              "          const docLink = document.createElement('div');\n",
              "          docLink.innerHTML = docLinkHtml;\n",
              "          element.appendChild(docLink);\n",
              "        }\n",
              "      </script>\n",
              "    </div>\n",
              "  </div>\n",
              "  "
            ]
          },
          "metadata": {},
          "execution_count": 297
        }
      ]
    },
    {
      "cell_type": "markdown",
      "source": [
        "Tokenizer"
      ],
      "metadata": {
        "id": "7jAIZCr9VjKa"
      }
    },
    {
      "cell_type": "code",
      "metadata": {
        "id": "7bBeoVxpIhUq"
      },
      "source": [
        "from keras.preprocessing.text import Tokenizer\n",
        "t = Tokenizer(num_words=5000)\n",
        "# fit the tokenizer on the documents\n",
        "t.fit_on_texts(data_pd[\"review\"].values)\n"
      ],
      "execution_count": 298,
      "outputs": []
    },
    {
      "cell_type": "code",
      "metadata": {
        "id": "d1YO2hcRIldE",
        "colab": {
          "base_uri": "https://localhost:8080/"
        },
        "outputId": "674fa589-23ea-4ea7-8162-27e94f27b9dc"
      },
      "source": [
        "t.word_index"
      ],
      "execution_count": 299,
      "outputs": [
        {
          "output_type": "execute_result",
          "data": {
            "text/plain": [
              "{'br': 1,\n",
              " 'not': 2,\n",
              " 'movie': 3,\n",
              " 'film': 4,\n",
              " 'one': 5,\n",
              " 'like': 6,\n",
              " 'would': 7,\n",
              " 'good': 8,\n",
              " 'no': 9,\n",
              " 'time': 10,\n",
              " 'even': 11,\n",
              " 'story': 12,\n",
              " 'really': 13,\n",
              " 'see': 14,\n",
              " 'well': 15,\n",
              " 'much': 16,\n",
              " 'could': 17,\n",
              " 'bad': 18,\n",
              " 'get': 19,\n",
              " 'people': 20,\n",
              " 'great': 21,\n",
              " 'also': 22,\n",
              " 'first': 23,\n",
              " 'made': 24,\n",
              " 'make': 25,\n",
              " 'way': 26,\n",
              " 'movies': 27,\n",
              " 'characters': 28,\n",
              " 'think': 29,\n",
              " 'watch': 30,\n",
              " 'character': 31,\n",
              " 'films': 32,\n",
              " 'two': 33,\n",
              " 'many': 34,\n",
              " 'seen': 35,\n",
              " 'love': 36,\n",
              " 'never': 37,\n",
              " 'plot': 38,\n",
              " 'life': 39,\n",
              " 'acting': 40,\n",
              " 'show': 41,\n",
              " 'best': 42,\n",
              " 'know': 43,\n",
              " 'little': 44,\n",
              " 'ever': 45,\n",
              " 'man': 46,\n",
              " 'better': 47,\n",
              " 'end': 48,\n",
              " 'scene': 49,\n",
              " 'still': 50,\n",
              " 'say': 51,\n",
              " 'scenes': 52,\n",
              " 'something': 53,\n",
              " 'go': 54,\n",
              " 'back': 55,\n",
              " 'cannot': 56,\n",
              " 'real': 57,\n",
              " 'us': 58,\n",
              " 'thing': 59,\n",
              " 'watching': 60,\n",
              " 'actors': 61,\n",
              " 'though': 62,\n",
              " 'director': 63,\n",
              " 'old': 64,\n",
              " 'years': 65,\n",
              " 'funny': 66,\n",
              " 'going': 67,\n",
              " '10': 68,\n",
              " 'another': 69,\n",
              " 'work': 70,\n",
              " 'actually': 71,\n",
              " 'nothing': 72,\n",
              " 'makes': 73,\n",
              " 'look': 74,\n",
              " 'find': 75,\n",
              " 'new': 76,\n",
              " 'lot': 77,\n",
              " 'every': 78,\n",
              " 'part': 79,\n",
              " 'want': 80,\n",
              " 'world': 81,\n",
              " 'cast': 82,\n",
              " 'things': 83,\n",
              " 'quite': 84,\n",
              " 'pretty': 85,\n",
              " 'horror': 86,\n",
              " 'got': 87,\n",
              " 'around': 88,\n",
              " 'seems': 89,\n",
              " 'young': 90,\n",
              " 'take': 91,\n",
              " 'big': 92,\n",
              " 'however': 93,\n",
              " 'thought': 94,\n",
              " 'fact': 95,\n",
              " 'enough': 96,\n",
              " 'long': 97,\n",
              " 'give': 98,\n",
              " 'may': 99,\n",
              " 'comedy': 100,\n",
              " 'must': 101,\n",
              " 'series': 102,\n",
              " 'right': 103,\n",
              " 'action': 104,\n",
              " 'music': 105,\n",
              " 'without': 106,\n",
              " 'guy': 107,\n",
              " 'times': 108,\n",
              " 'saw': 109,\n",
              " 'original': 110,\n",
              " 'always': 111,\n",
              " 'role': 112,\n",
              " 'come': 113,\n",
              " 'almost': 114,\n",
              " 'gets': 115,\n",
              " 'point': 116,\n",
              " 'interesting': 117,\n",
              " 'done': 118,\n",
              " 'whole': 119,\n",
              " 'least': 120,\n",
              " 'kind': 121,\n",
              " 'far': 122,\n",
              " 'bit': 123,\n",
              " 'script': 124,\n",
              " 'family': 125,\n",
              " 'minutes': 126,\n",
              " 'feel': 127,\n",
              " '2': 128,\n",
              " 'might': 129,\n",
              " 'making': 130,\n",
              " 'anything': 131,\n",
              " 'since': 132,\n",
              " 'last': 133,\n",
              " 'tv': 134,\n",
              " 'probably': 135,\n",
              " 'performance': 136,\n",
              " 'away': 137,\n",
              " 'girl': 138,\n",
              " 'yet': 139,\n",
              " 'let': 140,\n",
              " 'fun': 141,\n",
              " 'anyone': 142,\n",
              " 'woman': 143,\n",
              " 'worst': 144,\n",
              " 'sure': 145,\n",
              " 'rather': 146,\n",
              " 'hard': 147,\n",
              " 'day': 148,\n",
              " 'played': 149,\n",
              " 'found': 150,\n",
              " 'looking': 151,\n",
              " 'screen': 152,\n",
              " 'although': 153,\n",
              " 'especially': 154,\n",
              " 'believe': 155,\n",
              " 'dvd': 156,\n",
              " 'trying': 157,\n",
              " 'course': 158,\n",
              " 'everything': 159,\n",
              " 'set': 160,\n",
              " 'goes': 161,\n",
              " 'book': 162,\n",
              " 'ending': 163,\n",
              " 'put': 164,\n",
              " 'comes': 165,\n",
              " 'maybe': 166,\n",
              " 'place': 167,\n",
              " 'shows': 168,\n",
              " 'three': 169,\n",
              " 'worth': 170,\n",
              " 'different': 171,\n",
              " 'someone': 172,\n",
              " 'actor': 173,\n",
              " 'main': 174,\n",
              " 'sense': 175,\n",
              " 'american': 176,\n",
              " 'reason': 177,\n",
              " 'play': 178,\n",
              " 'effects': 179,\n",
              " 'looks': 180,\n",
              " 'true': 181,\n",
              " 'money': 182,\n",
              " 'everyone': 183,\n",
              " 'watched': 184,\n",
              " 'year': 185,\n",
              " 'job': 186,\n",
              " 'together': 187,\n",
              " 'war': 188,\n",
              " 'high': 189,\n",
              " 'plays': 190,\n",
              " 'audience': 191,\n",
              " 'instead': 192,\n",
              " '1': 193,\n",
              " 'half': 194,\n",
              " 'said': 195,\n",
              " 'later': 196,\n",
              " 'takes': 197,\n",
              " 'special': 198,\n",
              " 'john': 199,\n",
              " 'night': 200,\n",
              " 'seem': 201,\n",
              " 'beautiful': 202,\n",
              " 'left': 203,\n",
              " 'black': 204,\n",
              " 'seeing': 205,\n",
              " 'wife': 206,\n",
              " 'version': 207,\n",
              " 'shot': 208,\n",
              " 'excellent': 209,\n",
              " 'house': 210,\n",
              " 'idea': 211,\n",
              " 'star': 212,\n",
              " 'else': 213,\n",
              " 'mind': 214,\n",
              " 'death': 215,\n",
              " 'fan': 216,\n",
              " 'father': 217,\n",
              " 'used': 218,\n",
              " 'nice': 219,\n",
              " 'budget': 220,\n",
              " 'simply': 221,\n",
              " '3': 222,\n",
              " 'poor': 223,\n",
              " 'short': 224,\n",
              " 'completely': 225,\n",
              " 'second': 226,\n",
              " 'men': 227,\n",
              " 'read': 228,\n",
              " 'less': 229,\n",
              " 'along': 230,\n",
              " 'top': 231,\n",
              " 'home': 232,\n",
              " 'dead': 233,\n",
              " 'help': 234,\n",
              " 'line': 235,\n",
              " 'hollywood': 236,\n",
              " 'either': 237,\n",
              " 'kids': 238,\n",
              " 'boring': 239,\n",
              " 'friends': 240,\n",
              " 'camera': 241,\n",
              " 'production': 242,\n",
              " 'need': 243,\n",
              " 'try': 244,\n",
              " 'wrong': 245,\n",
              " 'enjoy': 246,\n",
              " 'classic': 247,\n",
              " 'low': 248,\n",
              " 'use': 249,\n",
              " 'given': 250,\n",
              " 'women': 251,\n",
              " 'full': 252,\n",
              " 'school': 253,\n",
              " 'stupid': 254,\n",
              " 'next': 255,\n",
              " 'performances': 256,\n",
              " 'rest': 257,\n",
              " 'truly': 258,\n",
              " 'couple': 259,\n",
              " 'video': 260,\n",
              " 'awful': 261,\n",
              " 'sex': 262,\n",
              " 'start': 263,\n",
              " 'recommend': 264,\n",
              " 'tell': 265,\n",
              " 'terrible': 266,\n",
              " 'mean': 267,\n",
              " 'remember': 268,\n",
              " 'getting': 269,\n",
              " 'came': 270,\n",
              " 'understand': 271,\n",
              " 'perhaps': 272,\n",
              " 'name': 273,\n",
              " 'moments': 274,\n",
              " 'face': 275,\n",
              " 'person': 276,\n",
              " 'keep': 277,\n",
              " 'human': 278,\n",
              " 'wonderful': 279,\n",
              " 'mother': 280,\n",
              " 'playing': 281,\n",
              " 'style': 282,\n",
              " 'episode': 283,\n",
              " 'small': 284,\n",
              " 'others': 285,\n",
              " 'boy': 286,\n",
              " 'perfect': 287,\n",
              " 'stars': 288,\n",
              " 'early': 289,\n",
              " 'head': 290,\n",
              " 'often': 291,\n",
              " 'written': 292,\n",
              " 'definitely': 293,\n",
              " 'lines': 294,\n",
              " 'children': 295,\n",
              " 'dialogue': 296,\n",
              " 'gives': 297,\n",
              " 'piece': 298,\n",
              " 'went': 299,\n",
              " 'case': 300,\n",
              " 'finally': 301,\n",
              " 'yes': 302,\n",
              " 'title': 303,\n",
              " 'live': 304,\n",
              " 'absolutely': 305,\n",
              " 'laugh': 306,\n",
              " 'oh': 307,\n",
              " 'certainly': 308,\n",
              " 'friend': 309,\n",
              " 'lost': 310,\n",
              " 'liked': 311,\n",
              " 'become': 312,\n",
              " 'entertaining': 313,\n",
              " 'worse': 314,\n",
              " 'sort': 315,\n",
              " 'cinema': 316,\n",
              " 'picture': 317,\n",
              " 'loved': 318,\n",
              " 'called': 319,\n",
              " 'hope': 320,\n",
              " 'felt': 321,\n",
              " 'mr': 322,\n",
              " 'overall': 323,\n",
              " 'guys': 324,\n",
              " 'based': 325,\n",
              " 'entire': 326,\n",
              " 'several': 327,\n",
              " 'supposed': 328,\n",
              " '5': 329,\n",
              " 'drama': 330,\n",
              " 'sound': 331,\n",
              " 'problem': 332,\n",
              " 'white': 333,\n",
              " '4': 334,\n",
              " 'waste': 335,\n",
              " 'beginning': 336,\n",
              " 'dark': 337,\n",
              " 'fans': 338,\n",
              " 'game': 339,\n",
              " 'totally': 340,\n",
              " 'care': 341,\n",
              " 'humor': 342,\n",
              " 'direction': 343,\n",
              " 'wanted': 344,\n",
              " 'seemed': 345,\n",
              " 'evil': 346,\n",
              " 'lives': 347,\n",
              " 'lead': 348,\n",
              " 'despite': 349,\n",
              " 'guess': 350,\n",
              " 'final': 351,\n",
              " 'example': 352,\n",
              " 'turn': 353,\n",
              " 'already': 354,\n",
              " 'throughout': 355,\n",
              " 'becomes': 356,\n",
              " 'killer': 357,\n",
              " 'unfortunately': 358,\n",
              " 'able': 359,\n",
              " 'son': 360,\n",
              " 'quality': 361,\n",
              " 'days': 362,\n",
              " 'history': 363,\n",
              " 'heart': 364,\n",
              " 'side': 365,\n",
              " 'fine': 366,\n",
              " 'michael': 367,\n",
              " 'flick': 368,\n",
              " 'wants': 369,\n",
              " 'writing': 370,\n",
              " 'horrible': 371,\n",
              " 'amazing': 372,\n",
              " 'run': 373,\n",
              " 'today': 374,\n",
              " 'art': 375,\n",
              " 'town': 376,\n",
              " 'act': 377,\n",
              " 'works': 378,\n",
              " 'close': 379,\n",
              " 'kill': 380,\n",
              " 'god': 381,\n",
              " 'child': 382,\n",
              " 'matter': 383,\n",
              " 'etc': 384,\n",
              " 'tries': 385,\n",
              " 'viewer': 386,\n",
              " 'past': 387,\n",
              " 'genre': 388,\n",
              " 'enjoyed': 389,\n",
              " 'turns': 390,\n",
              " 'brilliant': 391,\n",
              " 'behind': 392,\n",
              " 'gave': 393,\n",
              " 'car': 394,\n",
              " 'eyes': 395,\n",
              " 'stuff': 396,\n",
              " 'parts': 397,\n",
              " 'favorite': 398,\n",
              " 'girls': 399,\n",
              " 'directed': 400,\n",
              " 'hand': 401,\n",
              " 'kid': 402,\n",
              " 'late': 403,\n",
              " 'city': 404,\n",
              " 'soon': 405,\n",
              " 'expect': 406,\n",
              " 'hour': 407,\n",
              " 'actress': 408,\n",
              " 'obviously': 409,\n",
              " 'sometimes': 410,\n",
              " 'thinking': 411,\n",
              " 'killed': 412,\n",
              " 'starts': 413,\n",
              " 'decent': 414,\n",
              " 'stop': 415,\n",
              " 'type': 416,\n",
              " 'self': 417,\n",
              " 'daughter': 418,\n",
              " 'highly': 419,\n",
              " 'group': 420,\n",
              " 'says': 421,\n",
              " 'blood': 422,\n",
              " 'voice': 423,\n",
              " 'anyway': 424,\n",
              " 'writer': 425,\n",
              " 'took': 426,\n",
              " 'known': 427,\n",
              " 'heard': 428,\n",
              " 'happens': 429,\n",
              " 'except': 430,\n",
              " 'fight': 431,\n",
              " 'feeling': 432,\n",
              " 'experience': 433,\n",
              " 'coming': 434,\n",
              " 'slow': 435,\n",
              " 'moment': 436,\n",
              " 'stories': 437,\n",
              " 'leave': 438,\n",
              " 'police': 439,\n",
              " 'told': 440,\n",
              " 'extremely': 441,\n",
              " 'score': 442,\n",
              " 'violence': 443,\n",
              " 'hero': 444,\n",
              " 'involved': 445,\n",
              " 'strong': 446,\n",
              " 'chance': 447,\n",
              " 'lack': 448,\n",
              " 'ok': 449,\n",
              " 'hit': 450,\n",
              " 'hilarious': 451,\n",
              " 'roles': 452,\n",
              " 'happen': 453,\n",
              " 'wonder': 454,\n",
              " 'particularly': 455,\n",
              " 'living': 456,\n",
              " 'including': 457,\n",
              " 'hell': 458,\n",
              " 'save': 459,\n",
              " 'brother': 460,\n",
              " 'crap': 461,\n",
              " 'murder': 462,\n",
              " 'looked': 463,\n",
              " 'cool': 464,\n",
              " 'david': 465,\n",
              " 'please': 466,\n",
              " 'simple': 467,\n",
              " 'age': 468,\n",
              " 'cut': 469,\n",
              " 'obvious': 470,\n",
              " 'complete': 471,\n",
              " 'song': 472,\n",
              " 'gore': 473,\n",
              " 'happened': 474,\n",
              " 'serious': 475,\n",
              " 'james': 476,\n",
              " 'attempt': 477,\n",
              " 'ago': 478,\n",
              " 'taken': 479,\n",
              " 'shown': 480,\n",
              " 'robert': 481,\n",
              " 'english': 482,\n",
              " 'husband': 483,\n",
              " 'reality': 484,\n",
              " 'seriously': 485,\n",
              " 'released': 486,\n",
              " 'jokes': 487,\n",
              " 'opening': 488,\n",
              " 'interest': 489,\n",
              " 'possible': 490,\n",
              " 'alone': 491,\n",
              " 'none': 492,\n",
              " 'across': 493,\n",
              " 'sad': 494,\n",
              " 'exactly': 495,\n",
              " 'career': 496,\n",
              " 'number': 497,\n",
              " 'saying': 498,\n",
              " 'hours': 499,\n",
              " 'usually': 500,\n",
              " 'cinematography': 501,\n",
              " 'talent': 502,\n",
              " 'view': 503,\n",
              " 'documentary': 504,\n",
              " 'annoying': 505,\n",
              " 'relationship': 506,\n",
              " 'running': 507,\n",
              " 'order': 508,\n",
              " 'wish': 509,\n",
              " 'huge': 510,\n",
              " 'shots': 511,\n",
              " 'whose': 512,\n",
              " 'body': 513,\n",
              " 'light': 514,\n",
              " 'taking': 515,\n",
              " 'country': 516,\n",
              " 'ridiculous': 517,\n",
              " 'power': 518,\n",
              " 'important': 519,\n",
              " 'middle': 520,\n",
              " 'call': 521,\n",
              " 'female': 522,\n",
              " 'level': 523,\n",
              " 'ends': 524,\n",
              " 'started': 525,\n",
              " 'major': 526,\n",
              " 'four': 527,\n",
              " 'word': 528,\n",
              " 'turned': 529,\n",
              " 'jack': 530,\n",
              " 'opinion': 531,\n",
              " 'change': 532,\n",
              " 'scary': 533,\n",
              " 'mostly': 534,\n",
              " 'usual': 535,\n",
              " 'happy': 536,\n",
              " 'beyond': 537,\n",
              " 'ones': 538,\n",
              " 'room': 539,\n",
              " 'silly': 540,\n",
              " 'rating': 541,\n",
              " 'somewhat': 542,\n",
              " 'words': 543,\n",
              " 'novel': 544,\n",
              " 'talking': 545,\n",
              " 'knows': 546,\n",
              " 'knew': 547,\n",
              " 'disappointed': 548,\n",
              " 'strange': 549,\n",
              " 'apparently': 550,\n",
              " 'non': 551,\n",
              " 'upon': 552,\n",
              " 'modern': 553,\n",
              " 'attention': 554,\n",
              " 'single': 555,\n",
              " 'basically': 556,\n",
              " 'cheap': 557,\n",
              " 'finds': 558,\n",
              " 'due': 559,\n",
              " 'television': 560,\n",
              " 'musical': 561,\n",
              " 'earth': 562,\n",
              " 'problems': 563,\n",
              " 'miss': 564,\n",
              " 'clich': 565,\n",
              " 'episodes': 566,\n",
              " '7': 567,\n",
              " 'clearly': 568,\n",
              " 'thriller': 569,\n",
              " 'local': 570,\n",
              " 'king': 571,\n",
              " 'five': 572,\n",
              " 'talk': 573,\n",
              " 'british': 574,\n",
              " 'class': 575,\n",
              " 'events': 576,\n",
              " 'sequence': 577,\n",
              " 'team': 578,\n",
              " 'french': 579,\n",
              " 'moving': 580,\n",
              " 'ten': 581,\n",
              " 'fast': 582,\n",
              " 'review': 583,\n",
              " 'straight': 584,\n",
              " 'tells': 585,\n",
              " '8': 586,\n",
              " 'predictable': 587,\n",
              " 'die': 588,\n",
              " 'entertainment': 589,\n",
              " 'comic': 590,\n",
              " 'songs': 591,\n",
              " 'space': 592,\n",
              " 'whether': 593,\n",
              " 'george': 594,\n",
              " 'future': 595,\n",
              " 'dialog': 596,\n",
              " 'add': 597,\n",
              " 'sets': 598,\n",
              " 'easily': 599,\n",
              " 'enjoyable': 600,\n",
              " 'near': 601,\n",
              " 'appears': 602,\n",
              " 'soundtrack': 603,\n",
              " 'hate': 604,\n",
              " 'bring': 605,\n",
              " 'romantic': 606,\n",
              " 'giving': 607,\n",
              " 'lots': 608,\n",
              " 'similar': 609,\n",
              " 'supporting': 610,\n",
              " 'message': 611,\n",
              " 'release': 612,\n",
              " 'mention': 613,\n",
              " 'eye': 614,\n",
              " 'within': 615,\n",
              " 'filmed': 616,\n",
              " 'sequel': 617,\n",
              " 'falls': 618,\n",
              " 'sister': 619,\n",
              " 'rock': 620,\n",
              " 'monster': 621,\n",
              " 'clear': 622,\n",
              " 'needs': 623,\n",
              " 'dull': 624,\n",
              " 'bunch': 625,\n",
              " 'suspense': 626,\n",
              " 'surprised': 627,\n",
              " 'easy': 628,\n",
              " 'showing': 629,\n",
              " 'sorry': 630,\n",
              " 'tried': 631,\n",
              " 'certain': 632,\n",
              " 'ways': 633,\n",
              " 'working': 634,\n",
              " 'theater': 635,\n",
              " 'theme': 636,\n",
              " 'parents': 637,\n",
              " 'among': 638,\n",
              " 'named': 639,\n",
              " 'storyline': 640,\n",
              " 'lady': 641,\n",
              " 'stay': 642,\n",
              " 'fall': 643,\n",
              " 'effort': 644,\n",
              " 'stand': 645,\n",
              " 'minute': 646,\n",
              " 'gone': 647,\n",
              " 'feature': 648,\n",
              " '9': 649,\n",
              " 'dr': 650,\n",
              " 'tale': 651,\n",
              " 'dog': 652,\n",
              " 'buy': 653,\n",
              " 'using': 654,\n",
              " 'typical': 655,\n",
              " 'comments': 656,\n",
              " 'mystery': 657,\n",
              " 'editing': 658,\n",
              " 'subject': 659,\n",
              " 'avoid': 660,\n",
              " 'okay': 661,\n",
              " 'oscar': 662,\n",
              " 'deal': 663,\n",
              " 'doubt': 664,\n",
              " 'richard': 665,\n",
              " 'fantastic': 666,\n",
              " 'peter': 667,\n",
              " 'feels': 668,\n",
              " 'realistic': 669,\n",
              " 'viewers': 670,\n",
              " 'kept': 671,\n",
              " 'nearly': 672,\n",
              " 'general': 673,\n",
              " 'check': 674,\n",
              " 'viewing': 675,\n",
              " 'elements': 676,\n",
              " 'points': 677,\n",
              " 'greatest': 678,\n",
              " 'means': 679,\n",
              " 'famous': 680,\n",
              " 'crime': 681,\n",
              " 'rent': 682,\n",
              " 'imagine': 683,\n",
              " 'paul': 684,\n",
              " 'red': 685,\n",
              " 'actual': 686,\n",
              " 'form': 687,\n",
              " 'follow': 688,\n",
              " 'period': 689,\n",
              " 'material': 690,\n",
              " 'believable': 691,\n",
              " 'tom': 692,\n",
              " '20': 693,\n",
              " 'move': 694,\n",
              " 'brought': 695,\n",
              " 'forget': 696,\n",
              " 'somehow': 697,\n",
              " 'begins': 698,\n",
              " 'animation': 699,\n",
              " 'leads': 700,\n",
              " 'reviews': 701,\n",
              " 'doctor': 702,\n",
              " 'imdb': 703,\n",
              " 'surprise': 704,\n",
              " 'figure': 705,\n",
              " 'america': 706,\n",
              " 'weak': 707,\n",
              " 'hear': 708,\n",
              " 'average': 709,\n",
              " 'sit': 710,\n",
              " 'open': 711,\n",
              " 'york': 712,\n",
              " 'deep': 713,\n",
              " 'sequences': 714,\n",
              " 'fi': 715,\n",
              " 'killing': 716,\n",
              " 'atmosphere': 717,\n",
              " 'wait': 718,\n",
              " 'eventually': 719,\n",
              " 'learn': 720,\n",
              " 'premise': 721,\n",
              " 'sci': 722,\n",
              " 'whatever': 723,\n",
              " 'expected': 724,\n",
              " 'dance': 725,\n",
              " 'lame': 726,\n",
              " 'boys': 727,\n",
              " 'indeed': 728,\n",
              " 'poorly': 729,\n",
              " 'particular': 730,\n",
              " 'note': 731,\n",
              " 'box': 732,\n",
              " 'truth': 733,\n",
              " 'situation': 734,\n",
              " 'hot': 735,\n",
              " 'shame': 736,\n",
              " 'third': 737,\n",
              " 'society': 738,\n",
              " 'free': 739,\n",
              " 'season': 740,\n",
              " 'decided': 741,\n",
              " 'difficult': 742,\n",
              " 'romance': 743,\n",
              " 'lee': 744,\n",
              " 'needed': 745,\n",
              " 'acted': 746,\n",
              " 'crew': 747,\n",
              " 'gay': 748,\n",
              " 'leaves': 749,\n",
              " 'sexual': 750,\n",
              " 'emotional': 751,\n",
              " 'unless': 752,\n",
              " 'western': 753,\n",
              " 'possibly': 754,\n",
              " 'footage': 755,\n",
              " 'de': 756,\n",
              " 'credits': 757,\n",
              " 'write': 758,\n",
              " 'forced': 759,\n",
              " 'memorable': 760,\n",
              " 'became': 761,\n",
              " 'reading': 762,\n",
              " 'begin': 763,\n",
              " 'air': 764,\n",
              " 'meet': 765,\n",
              " 'otherwise': 766,\n",
              " 'question': 767,\n",
              " 'male': 768,\n",
              " 'street': 769,\n",
              " 'nature': 770,\n",
              " 'meets': 771,\n",
              " 'beauty': 772,\n",
              " 'plus': 773,\n",
              " 'hands': 774,\n",
              " 'cheesy': 775,\n",
              " 'masterpiece': 776,\n",
              " 'screenplay': 777,\n",
              " 'superb': 778,\n",
              " 'effect': 779,\n",
              " 'features': 780,\n",
              " 'stage': 781,\n",
              " 'interested': 782,\n",
              " 'island': 783,\n",
              " 'perfectly': 784,\n",
              " 'laughs': 785,\n",
              " 'comment': 786,\n",
              " 'forward': 787,\n",
              " 'cop': 788,\n",
              " 'weird': 789,\n",
              " 'badly': 790,\n",
              " 'inside': 791,\n",
              " 'previous': 792,\n",
              " 'japanese': 793,\n",
              " 'sounds': 794,\n",
              " 'personal': 795,\n",
              " 'quickly': 796,\n",
              " '80': 797,\n",
              " 'total': 798,\n",
              " 'crazy': 799,\n",
              " 'baby': 800,\n",
              " 'mark': 801,\n",
              " 'girlfriend': 802,\n",
              " 'keeps': 803,\n",
              " 'disney': 804,\n",
              " 'result': 805,\n",
              " 'towards': 806,\n",
              " 'battle': 807,\n",
              " 'writers': 808,\n",
              " 'fire': 809,\n",
              " 'worked': 810,\n",
              " 'setting': 811,\n",
              " 'joe': 812,\n",
              " 'background': 813,\n",
              " 'incredibly': 814,\n",
              " 'earlier': 815,\n",
              " 'mess': 816,\n",
              " 'copy': 817,\n",
              " 'dumb': 818,\n",
              " 'business': 819,\n",
              " 'unique': 820,\n",
              " 'bill': 821,\n",
              " 'realize': 822,\n",
              " 'directors': 823,\n",
              " 'powerful': 824,\n",
              " 'water': 825,\n",
              " 'dramatic': 826,\n",
              " 'older': 827,\n",
              " 'rate': 828,\n",
              " 'joke': 829,\n",
              " 'dream': 830,\n",
              " 'following': 831,\n",
              " 'pay': 832,\n",
              " 'plenty': 833,\n",
              " 'directing': 834,\n",
              " 'ask': 835,\n",
              " 'various': 836,\n",
              " 'creepy': 837,\n",
              " 'development': 838,\n",
              " 'appear': 839,\n",
              " 'front': 840,\n",
              " 'brings': 841,\n",
              " 'rich': 842,\n",
              " 'political': 843,\n",
              " 'apart': 844,\n",
              " '30': 845,\n",
              " 'admit': 846,\n",
              " 'cover': 847,\n",
              " 'leading': 848,\n",
              " 'fairly': 849,\n",
              " 'spent': 850,\n",
              " 'reasons': 851,\n",
              " 'portrayed': 852,\n",
              " 'era': 853,\n",
              " 'gun': 854,\n",
              " 'outside': 855,\n",
              " 'telling': 856,\n",
              " 'present': 857,\n",
              " 'party': 858,\n",
              " 'wasted': 859,\n",
              " 'zombie': 860,\n",
              " 'fighting': 861,\n",
              " 'william': 862,\n",
              " 'fails': 863,\n",
              " 'deserves': 864,\n",
              " 'success': 865,\n",
              " 'break': 866,\n",
              " 'twist': 867,\n",
              " 'list': 868,\n",
              " 'secret': 869,\n",
              " 'meant': 870,\n",
              " 'return': 871,\n",
              " 'create': 872,\n",
              " 'expecting': 873,\n",
              " 'attempts': 874,\n",
              " 'missing': 875,\n",
              " 'ideas': 876,\n",
              " 'manages': 877,\n",
              " 'ended': 878,\n",
              " 'cute': 879,\n",
              " 'recently': 880,\n",
              " 'agree': 881,\n",
              " 'villain': 882,\n",
              " 'german': 883,\n",
              " 'fantasy': 884,\n",
              " 'match': 885,\n",
              " 'talented': 886,\n",
              " 'caught': 887,\n",
              " 'odd': 888,\n",
              " 'large': 889,\n",
              " 'unlike': 890,\n",
              " 'hardly': 891,\n",
              " 'produced': 892,\n",
              " 'spoilers': 893,\n",
              " 'clever': 894,\n",
              " 'laughing': 895,\n",
              " 'office': 896,\n",
              " 'remake': 897,\n",
              " 'co': 898,\n",
              " 'members': 899,\n",
              " 'nudity': 900,\n",
              " 'plain': 901,\n",
              " 'escape': 902,\n",
              " 'italian': 903,\n",
              " 'filmmakers': 904,\n",
              " 'public': 905,\n",
              " 'century': 906,\n",
              " '6': 907,\n",
              " 'potential': 908,\n",
              " 'created': 909,\n",
              " 'state': 910,\n",
              " 'casting': 911,\n",
              " 'missed': 912,\n",
              " 'flat': 913,\n",
              " 'pace': 914,\n",
              " 'company': 915,\n",
              " 'wrote': 916,\n",
              " 'cartoon': 917,\n",
              " 'married': 918,\n",
              " 'pure': 919,\n",
              " 'waiting': 920,\n",
              " 'scott': 921,\n",
              " 'filled': 922,\n",
              " 'cold': 923,\n",
              " 'hold': 924,\n",
              " 'train': 925,\n",
              " 'incredible': 926,\n",
              " 'mentioned': 927,\n",
              " 'sadly': 928,\n",
              " 'van': 929,\n",
              " 'visual': 930,\n",
              " 'science': 931,\n",
              " 'familiar': 932,\n",
              " 'slightly': 933,\n",
              " 'speak': 934,\n",
              " 'considering': 935,\n",
              " 'store': 936,\n",
              " 'died': 937,\n",
              " 'language': 938,\n",
              " 'popular': 939,\n",
              " 'sweet': 940,\n",
              " 'credit': 941,\n",
              " 'la': 942,\n",
              " 'anti': 943,\n",
              " 'force': 944,\n",
              " 'tension': 945,\n",
              " 'convincing': 946,\n",
              " 'uses': 947,\n",
              " 'jane': 948,\n",
              " 'decides': 949,\n",
              " 'value': 950,\n",
              " 'social': 951,\n",
              " 'sees': 952,\n",
              " 'dancing': 953,\n",
              " 'entirely': 954,\n",
              " 'band': 955,\n",
              " 'bored': 956,\n",
              " '15': 957,\n",
              " 'hair': 958,\n",
              " 'neither': 959,\n",
              " '90': 960,\n",
              " 'intelligent': 961,\n",
              " 'law': 962,\n",
              " 'trouble': 963,\n",
              " 'compared': 964,\n",
              " 'follows': 965,\n",
              " 'former': 966,\n",
              " 'mad': 967,\n",
              " 'common': 968,\n",
              " 'choice': 969,\n",
              " 'portrayal': 970,\n",
              " 'suddenly': 971,\n",
              " 'appreciate': 972,\n",
              " 'brain': 973,\n",
              " 'college': 974,\n",
              " 'alive': 975,\n",
              " 'fit': 976,\n",
              " 'fear': 977,\n",
              " 'younger': 978,\n",
              " 'amount': 979,\n",
              " 'moves': 980,\n",
              " 'brothers': 981,\n",
              " 'violent': 982,\n",
              " 'depth': 983,\n",
              " 'yeah': 984,\n",
              " 'cat': 985,\n",
              " 'biggest': 986,\n",
              " 'images': 987,\n",
              " 'concept': 988,\n",
              " 'project': 989,\n",
              " 'post': 990,\n",
              " 'producers': 991,\n",
              " 'control': 992,\n",
              " 'alien': 993,\n",
              " 'drug': 994,\n",
              " 'successful': 995,\n",
              " 'recommended': 996,\n",
              " 'fiction': 997,\n",
              " 'situations': 998,\n",
              " 'amusing': 999,\n",
              " 'exciting': 1000,\n",
              " ...}"
            ]
          },
          "metadata": {},
          "execution_count": 299
        }
      ]
    },
    {
      "cell_type": "code",
      "metadata": {
        "id": "w9JoQDbTInmy"
      },
      "source": [
        "X = t.texts_to_sequences(data_pd[\"review\"].values)\n",
        "y = data_pd[\"label\"].values"
      ],
      "execution_count": 300,
      "outputs": []
    },
    {
      "cell_type": "code",
      "metadata": {
        "id": "0y_cJKyfIrBT",
        "colab": {
          "base_uri": "https://localhost:8080/"
        },
        "outputId": "55766c31-c704-47cf-b398-d2f6ff308742"
      },
      "source": [
        "X[0][:10]"
      ],
      "execution_count": 301,
      "outputs": [
        {
          "output_type": "execute_result",
          "data": {
            "text/plain": [
              "[5, 1904, 927, 60, 193, 2930, 283, 3049, 103, 495]"
            ]
          },
          "metadata": {},
          "execution_count": 301
        }
      ]
    },
    {
      "cell_type": "code",
      "metadata": {
        "id": "g2WWXbf8IsRi"
      },
      "source": [
        "from sklearn.model_selection import train_test_split\n",
        "raw_X_train_val, raw_X_test, y_train_val, y_test = train_test_split(X, y, test_size=0.5, random_state=42, stratify=y)\n",
        "\n",
        "from keras.preprocessing.sequence import pad_sequences\n",
        "# X = pad_sequences(X,maxlen=400)\n",
        "X_train_val = pad_sequences(raw_X_train_val,maxlen=400)\n",
        "X_test = pad_sequences(raw_X_test,maxlen=400)"
      ],
      "execution_count": 302,
      "outputs": []
    },
    {
      "cell_type": "code",
      "metadata": {
        "id": "1be2PR95Itbj",
        "colab": {
          "base_uri": "https://localhost:8080/"
        },
        "outputId": "53da9f3b-0b1a-401d-ff03-6b58fc4228ad"
      },
      "source": [
        "\n",
        "X_train, X_val, y_train, y_val = train_test_split(X_train_val, y_train_val, test_size=0.2, random_state=42, stratify=y_train_val)\n",
        "\n",
        "print (X_train.shape,X_test.shape, X_val.shape)"
      ],
      "execution_count": 303,
      "outputs": [
        {
          "output_type": "stream",
          "name": "stdout",
          "text": [
            "(20000, 400) (25000, 400) (5000, 400)\n"
          ]
        }
      ]
    },
    {
      "cell_type": "markdown",
      "source": [
        "- Tạo model"
      ],
      "metadata": {
        "id": "Bu3Id_0taSOH"
      }
    },
    {
      "cell_type": "code",
      "source": [
        "import tensorflow.python.keras.backend as K\n",
        "from keras.layers import Convolution1D, LSTM\n",
        "from keras.layers import Dense, Dropout, Activation, Lambda, concatenate,Input,TimeDistributed,Flatten\n",
        "from tensorflow.keras.optimizers import Adadelta\n",
        "from tensorflow.keras import regularizers\n",
        "from keras.initializers import constant\n",
        "\n",
        "\n",
        "\n",
        "def max_1d(X):\n",
        "  return K.max(X, axis=1)\n",
        "\n"
      ],
      "metadata": {
        "id": "zX4ix7E6FDEs"
      },
      "execution_count": 304,
      "outputs": []
    },
    {
      "cell_type": "code",
      "source": [
        "from keras.layers import *\n",
        "from keras.models import Model\n",
        "from keras.callbacks import ModelCheckpoint\n",
        "\n",
        "# set parameters:\n",
        "max_features = 21540#14300\n",
        "maxlen = 400\n",
        "batch_size = 1024\n",
        "embedding_dims = 200\n",
        "nb_filter = 150\n",
        "filter_length = 3\n",
        "hidden_dims = 100\n",
        "nb_epoch = 14\n",
        "\n",
        "\n",
        "input_layer = Input(shape=(maxlen,),dtype='int32', name='main_input')\n",
        "emb_layer = Embedding(max_features,embedding_dims)(input_layer)\n",
        "\n",
        "\n",
        "# we add a Convolution1D, which will learn nb_filter\n",
        "# word group filters of size 3:\n",
        "\n",
        "con3_layer = Convolution1D(filters=nb_filter,kernel_size=3,padding='valid',activation='relu')(emb_layer)\n",
        "\n",
        "pool_con3_layer = Lambda(max_1d, output_shape=(nb_filter,))(con3_layer)\n",
        "\n",
        "\n",
        "# we add a Convolution1D, which will learn nb_filter\n",
        "# word group filters of size 4:\n",
        "\n",
        "con4_layer = Convolution1D(filters=nb_filter,kernel_size=5,padding='valid',activation='relu')(emb_layer)\n",
        "\n",
        "pool_con4_layer = Lambda(max_1d, output_shape=(nb_filter,))(con4_layer)\n",
        "\n",
        "\n",
        "# we add a Convolution1D, which will learn nb_filter\n",
        "# word group filters of size 5:\n",
        "\n",
        "con5_layer = Convolution1D(filters=nb_filter,kernel_size=7,padding='valid',activation='relu')(emb_layer)\n",
        "\n",
        "pool_con5_layer = Lambda(max_1d, output_shape=(nb_filter,))(con5_layer)\n",
        "\n",
        "cnn_layer = concatenate([pool_con3_layer, pool_con5_layer,pool_con4_layer ])\n",
        "\n",
        "\n",
        "#LSTM\n",
        "\n",
        "\n",
        "x = Embedding(max_features, embedding_dims, input_length=maxlen)(input_layer)\n",
        "lstm_layer = LSTM(128)(x)\n",
        "\n",
        "cnn_lstm_layer = concatenate([lstm_layer, cnn_layer])\n",
        "\n",
        "dense_layer = Dense(hidden_dims*2, activation='relu', bias_initializer=constant(value=1.))(cnn_lstm_layer)\n",
        "output_layer= Dropout(0.4)(dense_layer)\n",
        "\n",
        "output_layer = Dense(1, trainable=True,activation='sigmoid',bias_initializer=constant(value=1.))(dense_layer)\n",
        "\n",
        "\n",
        "\n",
        "\n",
        "model = Model(inputs=input_layer, outputs=output_layer)\n",
        "#adadelta = Adadelta(learning_rate=0.01, rho=0.95, epsilon=1e-06)\n",
        "def custom_loss_function(y_true, y_pred):\n",
        "  squared_difference = tf.square(y_true - y_pred)\n",
        "  return tf.reduce_mean(squared_difference, axis=-1)\n",
        "\n",
        "model.compile(loss='binary_crossentropy',\n",
        "              optimizer=tf.keras.optimizers.Adam(learning_rate=0.004),\n",
        "              metrics=['accuracy'])\n",
        "mc = ModelCheckpoint(\"best_checkpoint_multi_channel.h5\", monitor=\"val_accuracy\" , save_best_only=True, save_weights_only=False)\n",
        "\n",
        "print(model.summary())\n",
        "\n",
        "history = model.fit(X_train,y_train,validation_data=(X_val,y_val), epochs= nb_epoch, batch_size=batch_size, callbacks=[mc])"
      ],
      "metadata": {
        "colab": {
          "base_uri": "https://localhost:8080/"
        },
        "id": "IzKy_9glD-oX",
        "outputId": "0623b8ff-99a6-46d8-c744-968e6efca7f7"
      },
      "execution_count": 305,
      "outputs": [
        {
          "output_type": "stream",
          "name": "stdout",
          "text": [
            "Model: \"model_5\"\n",
            "__________________________________________________________________________________________________\n",
            " Layer (type)                   Output Shape         Param #     Connected to                     \n",
            "==================================================================================================\n",
            " main_input (InputLayer)        [(None, 400)]        0           []                               \n",
            "                                                                                                  \n",
            " embedding_10 (Embedding)       (None, 400, 200)     4308000     ['main_input[0][0]']             \n",
            "                                                                                                  \n",
            " conv1d_15 (Conv1D)             (None, 398, 150)     90150       ['embedding_10[0][0]']           \n",
            "                                                                                                  \n",
            " conv1d_17 (Conv1D)             (None, 394, 150)     210150      ['embedding_10[0][0]']           \n",
            "                                                                                                  \n",
            " conv1d_16 (Conv1D)             (None, 396, 150)     150150      ['embedding_10[0][0]']           \n",
            "                                                                                                  \n",
            " embedding_11 (Embedding)       (None, 400, 200)     4308000     ['main_input[0][0]']             \n",
            "                                                                                                  \n",
            " lambda_15 (Lambda)             (None, 150)          0           ['conv1d_15[0][0]']              \n",
            "                                                                                                  \n",
            " lambda_17 (Lambda)             (None, 150)          0           ['conv1d_17[0][0]']              \n",
            "                                                                                                  \n",
            " lambda_16 (Lambda)             (None, 150)          0           ['conv1d_16[0][0]']              \n",
            "                                                                                                  \n",
            " lstm_5 (LSTM)                  (None, 128)          168448      ['embedding_11[0][0]']           \n",
            "                                                                                                  \n",
            " concatenate_10 (Concatenate)   (None, 450)          0           ['lambda_15[0][0]',              \n",
            "                                                                  'lambda_17[0][0]',              \n",
            "                                                                  'lambda_16[0][0]']              \n",
            "                                                                                                  \n",
            " concatenate_11 (Concatenate)   (None, 578)          0           ['lstm_5[0][0]',                 \n",
            "                                                                  'concatenate_10[0][0]']         \n",
            "                                                                                                  \n",
            " dense_10 (Dense)               (None, 200)          115800      ['concatenate_11[0][0]']         \n",
            "                                                                                                  \n",
            " dense_11 (Dense)               (None, 1)            201         ['dense_10[0][0]']               \n",
            "                                                                                                  \n",
            "==================================================================================================\n",
            "Total params: 9,350,899\n",
            "Trainable params: 9,350,899\n",
            "Non-trainable params: 0\n",
            "__________________________________________________________________________________________________\n",
            "None\n",
            "Epoch 1/14\n",
            "20/20 [==============================] - 15s 666ms/step - loss: 0.6121 - accuracy: 0.6903 - val_loss: 0.3378 - val_accuracy: 0.8590\n",
            "Epoch 2/14\n",
            "20/20 [==============================] - 13s 629ms/step - loss: 0.2551 - accuracy: 0.8960 - val_loss: 0.3389 - val_accuracy: 0.8582\n",
            "Epoch 3/14\n",
            "20/20 [==============================] - 13s 633ms/step - loss: 0.1361 - accuracy: 0.9514 - val_loss: 0.3719 - val_accuracy: 0.8662\n",
            "Epoch 4/14\n",
            "20/20 [==============================] - 12s 611ms/step - loss: 0.0620 - accuracy: 0.9814 - val_loss: 0.5641 - val_accuracy: 0.8592\n",
            "Epoch 5/14\n",
            "20/20 [==============================] - 12s 606ms/step - loss: 0.0238 - accuracy: 0.9932 - val_loss: 0.6475 - val_accuracy: 0.8620\n",
            "Epoch 6/14\n",
            "20/20 [==============================] - 12s 607ms/step - loss: 0.0095 - accuracy: 0.9974 - val_loss: 0.7398 - val_accuracy: 0.8616\n",
            "Epoch 7/14\n",
            "20/20 [==============================] - 12s 609ms/step - loss: 0.0054 - accuracy: 0.9990 - val_loss: 0.8392 - val_accuracy: 0.8596\n",
            "Epoch 8/14\n",
            "20/20 [==============================] - 12s 614ms/step - loss: 0.0021 - accuracy: 0.9999 - val_loss: 0.9616 - val_accuracy: 0.8616\n",
            "Epoch 9/14\n",
            "20/20 [==============================] - 12s 615ms/step - loss: 0.0010 - accuracy: 0.9999 - val_loss: 0.9706 - val_accuracy: 0.8600\n",
            "Epoch 10/14\n",
            "20/20 [==============================] - 12s 612ms/step - loss: 3.6166e-04 - accuracy: 1.0000 - val_loss: 1.0013 - val_accuracy: 0.8590\n",
            "Epoch 11/14\n",
            "20/20 [==============================] - 12s 610ms/step - loss: 1.4904e-04 - accuracy: 1.0000 - val_loss: 1.0376 - val_accuracy: 0.8594\n",
            "Epoch 12/14\n",
            "20/20 [==============================] - 12s 609ms/step - loss: 9.1399e-05 - accuracy: 1.0000 - val_loss: 1.0439 - val_accuracy: 0.8594\n",
            "Epoch 13/14\n",
            "20/20 [==============================] - 12s 606ms/step - loss: 6.8747e-05 - accuracy: 1.0000 - val_loss: 1.0623 - val_accuracy: 0.8582\n",
            "Epoch 14/14\n",
            "20/20 [==============================] - 12s 608ms/step - loss: 5.6956e-05 - accuracy: 1.0000 - val_loss: 1.0742 - val_accuracy: 0.8584\n"
          ]
        }
      ]
    },
    {
      "cell_type": "markdown",
      "source": [
        "Vẽ chart để kiểm tra vấn đề underfit và overfit. Qua chart bên dưới ta thấy training tốt"
      ],
      "metadata": {
        "id": "yq2zf_89J1i_"
      }
    },
    {
      "cell_type": "code",
      "source": [
        "import matplotlib.pyplot as plt\n",
        "\n",
        "plt.plot(history.history['loss'])\n",
        "plt.plot(history.history['val_loss'])\n",
        "plt.title('model loss')\n",
        "plt.ylabel('loss')\n",
        "plt.xlabel('epoch')\n",
        "plt.legend(['train', 'val'], loc='upper left')\n",
        "plt.show()"
      ],
      "metadata": {
        "colab": {
          "base_uri": "https://localhost:8080/",
          "height": 295
        },
        "id": "N1Pp2wmKxOkG",
        "outputId": "ebd7995a-17be-4833-f169-5a8e5c992380"
      },
      "execution_count": 306,
      "outputs": [
        {
          "output_type": "display_data",
          "data": {
            "text/plain": [
              "<Figure size 432x288 with 1 Axes>"
            ],
            "image/png": "[encoded data removed]"
          },
          "metadata": {
            "needs_background": "light"
          }
        }
      ]
    },
    {
      "cell_type": "code",
      "source": [
        "\n",
        "plt.plot(history.history['accuracy'])\n",
        "plt.plot(history.history['val_accuracy'])\n",
        "plt.title('model accuracy')\n",
        "plt.ylabel('accuracy')\n",
        "plt.xlabel('epoch')\n",
        "plt.legend(['train', 'val'], loc='upper left')\n",
        "plt.show()"
      ],
      "metadata": {
        "colab": {
          "base_uri": "https://localhost:8080/",
          "height": 295
        },
        "id": "YIUENb0dyw80",
        "outputId": "52a24f48-2d55-4a2f-b9e5-5795daeb3b65"
      },
      "execution_count": 307,
      "outputs": [
        {
          "output_type": "display_data",
          "data": {
            "text/plain": [
              "<Figure size 432x288 with 1 Axes>"
            ],
            "image/png": "[encoded data removed]"
          },
          "metadata": {
            "needs_background": "light"
          }
        }
      ]
    },
    {
      "cell_type": "markdown",
      "source": [
        "Predict all test samples"
      ],
      "metadata": {
        "id": "k5TEBxSwKAxL"
      }
    },
    {
      "cell_type": "code",
      "source": [
        "model.load_weights(\"best_checkpoint_multi_channel.h5\")\n",
        "y_test_pred = model.predict(X_test)\n",
        "y_test_pred = [1 if pred > 0.5 else 0 for pred in y_test_pred ]\n",
        "import numpy as np\n",
        "print(\"Acc:\",(1 - np.sum(np.abs(y_test_pred- y_test))/len(y_test_pred)))"
      ],
      "metadata": {
        "id": "bQc0DpIbBz_m",
        "colab": {
          "base_uri": "https://localhost:8080/"
        },
        "outputId": "dd1fcae9-a4b4-47e8-8360-79411e2f8e6a"
      },
      "execution_count": 308,
      "outputs": [
        {
          "output_type": "stream",
          "name": "stdout",
          "text": [
            "Acc: 0.86388\n"
          ]
        }
      ]
    },
    {
      "cell_type": "markdown",
      "source": [
        "# Augmentation data"
      ],
      "metadata": {
        "id": "BtWnwvdnLUXX"
      }
    },
    {
      "cell_type": "code",
      "source": [
        "positive_seq = \". very like very love. do not hate\"\n",
        "negative_seq = \". do not like love. very hate\"\n",
        "\n",
        "pos_token = t.texts_to_sequences([positive_seq])\n",
        "neg_token = t.texts_to_sequences([negative_seq])\n",
        "pos_token[0]"
      ],
      "metadata": {
        "id": "I3X5ghb2g9AA",
        "outputId": "bf258d3d-e693-429d-97a7-53e57ae2f57a",
        "colab": {
          "base_uri": "https://localhost:8080/"
        }
      },
      "execution_count": 309,
      "outputs": [
        {
          "output_type": "execute_result",
          "data": {
            "text/plain": [
              "[6, 36, 2, 604]"
            ]
          },
          "metadata": {},
          "execution_count": 309
        }
      ]
    },
    {
      "cell_type": "markdown",
      "source": [
        "Duplicate the train_val data and augment.\n",
        "\n",
        "Add positive_seq to the tail, the label will be 1\n",
        "\n",
        "And vice versa..."
      ],
      "metadata": {
        "id": "c032ILnzmqxZ"
      }
    },
    {
      "cell_type": "code",
      "source": [
        "pos_raw_X_train_val = raw_X_train_val.copy()\n",
        "pos_y_train_val = y_train_val.copy()\n",
        "for list_document in pos_raw_X_train_val:\n",
        "  list_document.extend(pos_token[0])\n",
        "for index in range(len(pos_y_train_val)):\n",
        "  pos_y_train_val[index] = 1\n",
        "\n",
        "neg_raw_X_train_val = raw_X_train_val.copy()\n",
        "neg_y_train_val = y_train_val.copy()\n",
        "for list_document in neg_raw_X_train_val:\n",
        "  list_document.extend(neg_token[0])\n",
        "for index in range(len(neg_y_train_val)):\n",
        "  neg_y_train_val[index] = 0\n"
      ],
      "metadata": {
        "id": "uqkIVfYGiKgI"
      },
      "execution_count": 310,
      "outputs": []
    },
    {
      "cell_type": "markdown",
      "source": [
        "Concat with new data"
      ],
      "metadata": {
        "id": "y13F3xcBnDN9"
      }
    },
    {
      "cell_type": "code",
      "source": [
        "aug_raw_X_train_val = raw_X_train_val + pos_raw_X_train_val + neg_raw_X_train_val\n",
        "aug_y_train_val = np.concatenate((y_train_val,pos_y_train_val,neg_y_train_val))"
      ],
      "metadata": {
        "id": "kKMHkbBKnG-O"
      },
      "execution_count": 311,
      "outputs": []
    },
    {
      "cell_type": "code",
      "source": [
        "# positive_data_pd_copy = data_pd.copy()\n",
        "# negative_data_pd_copy = data_pd.copy()\n",
        "\n",
        "\n",
        "# positive_data_pd_copy['review'] = positive_data_pd_copy['review'].apply(lambda x: x + \". very like very love. do not hate\")\n",
        "# positive_data_pd_copy['sentiment'] = positive_data_pd_copy['sentiment'].apply(lambda x: \"positive\")\n",
        "# positive_data_pd_copy['label'] = positive_data_pd_copy['label'].apply(lambda x: 1)\n",
        "\n",
        "\n",
        "# negative_data_pd_copy['review'] = negative_data_pd_copy['review'].apply(lambda x: x + \". do not like love. very hate\")\n",
        "# negative_data_pd_copy['sentiment'] = negative_data_pd_copy['sentiment'].apply(lambda x: \"negative\")\n",
        "# negative_data_pd_copy['label'] = negative_data_pd_copy['label'].apply(lambda x: 0)\n",
        "\n",
        "# data_pd = data_pd.append(positive_data_pd_copy, ignore_index = True)\n",
        "# data_pd = data_pd.append(negative_data_pd_copy, ignore_index = True)\n",
        "\n",
        "# data_pd.tail()\n"
      ],
      "metadata": {
        "id": "lvCRaZ3pLaDl"
      },
      "execution_count": 312,
      "outputs": []
    },
    {
      "cell_type": "code",
      "metadata": {
        "id": "_lap35e_Vpx_"
      },
      "source": [
        "from keras.preprocessing.sequence import pad_sequences\n",
        "aug_raw_X_train_val = pad_sequences(aug_raw_X_train_val,maxlen=400)"
      ],
      "execution_count": 313,
      "outputs": []
    },
    {
      "cell_type": "code",
      "metadata": {
        "colab": {
          "base_uri": "https://localhost:8080/"
        },
        "outputId": "be50b8ea-0bdf-4fac-823f-1e8b4b9f7130",
        "id": "0LcRnLePVpyA"
      },
      "source": [
        "\n",
        "X_train, X_val, y_train, y_val = train_test_split(aug_raw_X_train_val, aug_y_train_val, test_size=0.2, random_state=42, stratify=aug_y_train_val)\n",
        "\n",
        "print (X_train.shape,X_test.shape, X_val.shape)"
      ],
      "execution_count": 314,
      "outputs": [
        {
          "output_type": "stream",
          "name": "stdout",
          "text": [
            "(60000, 400) (25000, 400) (15000, 400)\n"
          ]
        }
      ]
    },
    {
      "cell_type": "markdown",
      "source": [
        "- Chạy lại model"
      ],
      "metadata": {
        "id": "Vk7-WvEqVpyB"
      }
    },
    {
      "cell_type": "code",
      "source": [
        "from keras.layers import *\n",
        "from keras.models import Model\n",
        "from keras.callbacks import ModelCheckpoint\n",
        "\n",
        "# set parameters:\n",
        "max_features = 21540#14300\n",
        "maxlen = 400\n",
        "batch_size = 2048\n",
        "embedding_dims = 200\n",
        "nb_filter = 150\n",
        "filter_length = 3\n",
        "hidden_dims = 100\n",
        "nb_epoch = 14\n",
        "\n",
        "\n",
        "model.compile(loss='binary_crossentropy',\n",
        "              optimizer=tf.keras.optimizers.Adam(learning_rate=0.005),\n",
        "              metrics=['accuracy'])\n",
        "mc = ModelCheckpoint(\"aug_best_checkpoint_multi_channel.h5\", monitor=\"val_accuracy\" , save_best_only=True, save_weights_only=False)\n",
        "\n",
        "print(model.summary())\n",
        "\n",
        "history = model.fit(X_train,y_train,validation_data=(X_val,y_val), epochs= nb_epoch, batch_size=batch_size, callbacks=[mc])"
      ],
      "metadata": {
        "colab": {
          "base_uri": "https://localhost:8080/"
        },
        "outputId": "78dc18e1-ca86-4595-a2bf-1d5e6f9a6331",
        "id": "yCUURPj2VpyD"
      },
      "execution_count": 320,
      "outputs": [
        {
          "output_type": "stream",
          "name": "stdout",
          "text": [
            "Model: \"model_5\"\n",
            "__________________________________________________________________________________________________\n",
            " Layer (type)                   Output Shape         Param #     Connected to                     \n",
            "==================================================================================================\n",
            " main_input (InputLayer)        [(None, 400)]        0           []                               \n",
            "                                                                                                  \n",
            " embedding_10 (Embedding)       (None, 400, 200)     4308000     ['main_input[0][0]']             \n",
            "                                                                                                  \n",
            " conv1d_15 (Conv1D)             (None, 398, 150)     90150       ['embedding_10[0][0]']           \n",
            "                                                                                                  \n",
            " conv1d_17 (Conv1D)             (None, 394, 150)     210150      ['embedding_10[0][0]']           \n",
            "                                                                                                  \n",
            " conv1d_16 (Conv1D)             (None, 396, 150)     150150      ['embedding_10[0][0]']           \n",
            "                                                                                                  \n",
            " embedding_11 (Embedding)       (None, 400, 200)     4308000     ['main_input[0][0]']             \n",
            "                                                                                                  \n",
            " lambda_15 (Lambda)             (None, 150)          0           ['conv1d_15[0][0]']              \n",
            "                                                                                                  \n",
            " lambda_17 (Lambda)             (None, 150)          0           ['conv1d_17[0][0]']              \n",
            "                                                                                                  \n",
            " lambda_16 (Lambda)             (None, 150)          0           ['conv1d_16[0][0]']              \n",
            "                                                                                                  \n",
            " lstm_5 (LSTM)                  (None, 128)          168448      ['embedding_11[0][0]']           \n",
            "                                                                                                  \n",
            " concatenate_10 (Concatenate)   (None, 450)          0           ['lambda_15[0][0]',              \n",
            "                                                                  'lambda_17[0][0]',              \n",
            "                                                                  'lambda_16[0][0]']              \n",
            "                                                                                                  \n",
            " concatenate_11 (Concatenate)   (None, 578)          0           ['lstm_5[0][0]',                 \n",
            "                                                                  'concatenate_10[0][0]']         \n",
            "                                                                                                  \n",
            " dense_10 (Dense)               (None, 200)          115800      ['concatenate_11[0][0]']         \n",
            "                                                                                                  \n",
            " dense_11 (Dense)               (None, 1)            201         ['dense_10[0][0]']               \n",
            "                                                                                                  \n",
            "==================================================================================================\n",
            "Total params: 9,350,899\n",
            "Trainable params: 9,350,899\n",
            "Non-trainable params: 0\n",
            "__________________________________________________________________________________________________\n",
            "None\n",
            "Epoch 1/14\n",
            "30/30 [==============================] - 37s 1s/step - loss: 0.7091 - accuracy: 0.5763 - val_loss: 0.6803 - val_accuracy: 0.5959\n",
            "Epoch 2/14\n",
            "30/30 [==============================] - 34s 1s/step - loss: 0.6608 - accuracy: 0.6268 - val_loss: 0.7000 - val_accuracy: 0.5577\n",
            "Epoch 3/14\n",
            "30/30 [==============================] - 35s 1s/step - loss: 0.6556 - accuracy: 0.6357 - val_loss: 0.7015 - val_accuracy: 0.5798\n",
            "Epoch 4/14\n",
            "30/30 [==============================] - 35s 1s/step - loss: 0.6540 - accuracy: 0.6370 - val_loss: 0.7199 - val_accuracy: 0.5557\n",
            "Epoch 5/14\n",
            "30/30 [==============================] - 36s 1s/step - loss: 0.6503 - accuracy: 0.6419 - val_loss: 0.7311 - val_accuracy: 0.5531\n",
            "Epoch 6/14\n",
            "30/30 [==============================] - 36s 1s/step - loss: 0.6498 - accuracy: 0.6431 - val_loss: 0.7675 - val_accuracy: 0.5212\n",
            "Epoch 7/14\n",
            "30/30 [==============================] - 36s 1s/step - loss: 0.6496 - accuracy: 0.6399 - val_loss: 0.7628 - val_accuracy: 0.5279\n",
            "Epoch 8/14\n",
            "30/30 [==============================] - 37s 1s/step - loss: 0.6464 - accuracy: 0.6427 - val_loss: 0.7607 - val_accuracy: 0.4969\n",
            "Epoch 9/14\n",
            "30/30 [==============================] - 37s 1s/step - loss: 0.6451 - accuracy: 0.6440 - val_loss: 0.7898 - val_accuracy: 0.5208\n",
            "Epoch 10/14\n",
            "30/30 [==============================] - 36s 1s/step - loss: 0.6436 - accuracy: 0.6461 - val_loss: 0.8065 - val_accuracy: 0.5045\n",
            "Epoch 11/14\n",
            "30/30 [==============================] - 36s 1s/step - loss: 0.6403 - accuracy: 0.6469 - val_loss: 0.8270 - val_accuracy: 0.4887\n",
            "Epoch 12/14\n",
            "30/30 [==============================] - 36s 1s/step - loss: 0.6366 - accuracy: 0.6518 - val_loss: 0.8377 - val_accuracy: 0.4928\n",
            "Epoch 13/14\n",
            "30/30 [==============================] - 37s 1s/step - loss: 0.6344 - accuracy: 0.6516 - val_loss: 0.8700 - val_accuracy: 0.4896\n",
            "Epoch 14/14\n",
            "30/30 [==============================] - 36s 1s/step - loss: 0.6322 - accuracy: 0.6541 - val_loss: 0.8616 - val_accuracy: 0.4589\n"
          ]
        }
      ]
    },
    {
      "cell_type": "markdown",
      "source": [
        "Vẽ chart để kiểm tra vấn đề underfit và overfit. Qua chart bên dưới ta thấy training tốt"
      ],
      "metadata": {
        "id": "tVA5id60VpyI"
      }
    },
    {
      "cell_type": "code",
      "source": [
        "import matplotlib.pyplot as plt\n",
        "\n",
        "plt.plot(history.history['loss'])\n",
        "plt.plot(history.history['val_loss'])\n",
        "plt.title('model loss')\n",
        "plt.ylabel('loss')\n",
        "plt.xlabel('epoch')\n",
        "plt.legend(['train', 'val'], loc='upper left')\n",
        "plt.show()"
      ],
      "metadata": {
        "outputId": "c38e7859-1878-4427-84af-0b4c47ec5186",
        "colab": {
          "base_uri": "https://localhost:8080/",
          "height": 295
        },
        "id": "eVsrcRxbVpyJ"
      },
      "execution_count": 316,
      "outputs": [
        {
          "output_type": "display_data",
          "data": {
            "text/plain": [
              "<Figure size 432x288 with 1 Axes>"
            ],
            "image/png": "[encoded data removed]"
          },
          "metadata": {
            "needs_background": "light"
          }
        }
      ]
    },
    {
      "cell_type": "code",
      "source": [
        "\n",
        "plt.plot(history.history['accuracy'])\n",
        "plt.plot(history.history['val_accuracy'])\n",
        "plt.title('model accuracy')\n",
        "plt.ylabel('accuracy')\n",
        "plt.xlabel('epoch')\n",
        "plt.legend(['train', 'val'], loc='upper left')\n",
        "plt.show()"
      ],
      "metadata": {
        "outputId": "ec8694f3-4fd0-4701-8736-0f732e175429",
        "colab": {
          "base_uri": "https://localhost:8080/",
          "height": 295
        },
        "id": "8D9Q9OODVpyK"
      },
      "execution_count": 317,
      "outputs": [
        {
          "output_type": "display_data",
          "data": {
            "text/plain": [
              "<Figure size 432x288 with 1 Axes>"
            ],
            "image/png": "[encoded data removed]"
          },
          "metadata": {
            "needs_background": "light"
          }
        }
      ]
    },
    {
      "cell_type": "markdown",
      "source": [
        "Predict all test samples"
      ],
      "metadata": {
        "id": "lrhlPw3sVpyL"
      }
    },
    {
      "cell_type": "code",
      "source": [
        "model.load_weights(\"aug_best_checkpoint_multi_channel.h5\")\n",
        "y_test_pred = model.predict(X_test)\n",
        "y_test_pred = [1 if pred > 0.5 else 0 for pred in y_test_pred ]\n",
        "import numpy as np\n",
        "print(\"Acc:\",(1 - np.sum(np.abs(y_test_pred- y_test))/len(y_test_pred)))"
      ],
      "metadata": {
        "outputId": "515d6daf-8638-4509-8658-9025f9e60a69",
        "colab": {
          "base_uri": "https://localhost:8080/"
        },
        "id": "Pdsz3UphVpyM"
      },
      "execution_count": 318,
      "outputs": [
        {
          "output_type": "stream",
          "name": "stdout",
          "text": [
            "Acc: 0.76644\n"
          ]
        }
      ]
    },
    {
      "cell_type": "code",
      "source": [
        "0.8750 - 0.88656\n"
      ],
      "metadata": {
        "id": "QuBHv_Q0B2Zg",
        "outputId": "8aa4ce40-7997-4b8f-faf2-d0a2e9231c1d",
        "colab": {
          "base_uri": "https://localhost:8080/"
        }
      },
      "execution_count": 319,
      "outputs": [
        {
          "output_type": "execute_result",
          "data": {
            "text/plain": [
              "-0.011560000000000015"
            ]
          },
          "metadata": {},
          "execution_count": 319
        }
      ]
    },
    {
      "cell_type": "markdown",
      "source": [
        "Kết thúc!\n",
        "\n",
        "---\n",
        "\n",
        "\n",
        "\n",
        "\n"
      ],
      "metadata": {
        "id": "180u0uN4KChB"
      }
    }
  ]
}
